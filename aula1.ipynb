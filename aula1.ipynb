{
 "cells": [
  {
   "cell_type": "code",
   "execution_count": 31,
   "metadata": {},
   "outputs": [
    {
     "name": "stdout",
     "output_type": "stream",
     "text": [
      "pegou\n",
      "Seu nome é Trizte Você tem 22 de idade\n"
     ]
    }
   ],
   "source": [
    "print('pegou')\n",
    "nome = 'Trizte'\n",
    "idade = 15\n",
    "print('Seu nome é', nome,'Você tem', idade+7, 'de idade')"
   ]
  },
  {
   "cell_type": "code",
   "execution_count": 11,
   "metadata": {},
   "outputs": [],
   "source": [
    "pessoa = 'Eu'\n",
    "idade = 22\n",
    "altura = 1.65\n",
    "desenvolvedora = True"
   ]
  },
  {
   "cell_type": "code",
   "execution_count": 12,
   "metadata": {},
   "outputs": [
    {
     "data": {
      "text/plain": [
       "bool"
      ]
     },
     "execution_count": 12,
     "metadata": {},
     "output_type": "execute_result"
    }
   ],
   "source": [
    "type(pessoa)\n",
    "type(idade)\n",
    "type(altura)\n",
    "type(desenvolvedora)\n"
   ]
  },
  {
   "cell_type": "code",
   "execution_count": 13,
   "metadata": {},
   "outputs": [],
   "source": [
    "pessoa = 12344"
   ]
  },
  {
   "cell_type": "code",
   "execution_count": 16,
   "metadata": {},
   "outputs": [
    {
     "name": "stdout",
     "output_type": "stream",
     "text": [
      "A variavel 12344 é do tipo <class 'int'>\n"
     ]
    }
   ],
   "source": [
    "print('A variavel', pessoa, 'é do tipo', type(pessoa) )\n",
    "#comentando "
   ]
  },
  {
   "cell_type": "code",
   "execution_count": 19,
   "metadata": {},
   "outputs": [
    {
     "name": "stdout",
     "output_type": "stream",
     "text": [
      " 85\n"
     ]
    }
   ],
   "source": [
    "idade1 = 15\n",
    "idade2 = 35\n",
    "somaIdades = idade1+idade2\n",
    "print('', somaIdades)"
   ]
  },
  {
   "cell_type": "code",
   "execution_count": 24,
   "metadata": {},
   "outputs": [
    {
     "name": "stdout",
     "output_type": "stream",
     "text": [
      " 10 -4 21 1.0 2.3333333333333335\n",
      " 5.0\n",
      " 170\n"
     ]
    }
   ],
   "source": [
    "#Operações matemáticas\n",
    "num1= 3\n",
    "num2 = 7\n",
    "\n",
    "adicao = num1 + num2\n",
    "subtracao = num1 - num2\n",
    "multiplicacao = num1 * num2\n",
    "divisao = num1/3\n",
    "divisao2 = num2/3\n",
    "print('', adicao, subtracao, multiplicacao, divisao, divisao2)\n",
    "\n",
    "media = (num1 + num2)/2\n",
    "print('', media)\n",
    "\n",
    "conta = 2*(idade1 + idade2)\n",
    "print('', conta)\n",
    "\n",
    "exponenciacao = 3 ** 2\n",
    "\n",
    "#para a parte inteira de uma divisão se usa esse simbolo => //\n",
    "#para pegar o valor completo => /\n",
    "#para pegar o resto => %"
   ]
  },
  {
   "cell_type": "code",
   "execution_count": 29,
   "metadata": {},
   "outputs": [
    {
     "name": "stdout",
     "output_type": "stream",
     "text": [
      "Beatriz Cavalcante\n"
     ]
    }
   ],
   "source": [
    "#concatenação\n",
    "\n",
    "pnome = 'Beatriz'\n",
    "snome = 'Cavalcante'\n",
    "print(pnome + ' ' + snome)"
   ]
  }
 ],
 "metadata": {
  "kernelspec": {
   "display_name": "Python 3",
   "language": "python",
   "name": "python3"
  },
  "language_info": {
   "codemirror_mode": {
    "name": "ipython",
    "version": 3
   },
   "file_extension": ".py",
   "mimetype": "text/x-python",
   "name": "python",
   "nbconvert_exporter": "python",
   "pygments_lexer": "ipython3",
   "version": "3.12.0"
  }
 },
 "nbformat": 4,
 "nbformat_minor": 2
}
